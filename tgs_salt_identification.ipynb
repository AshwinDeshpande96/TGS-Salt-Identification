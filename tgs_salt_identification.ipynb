{
  "nbformat": 4,
  "nbformat_minor": 0,
  "metadata": {
    "colab": {
      "name": "tgs-salt-identification.ipynb",
      "version": "0.3.2",
      "provenance": [],
      "collapsed_sections": [],
      "include_colab_link": true
    },
    "kernelspec": {
      "name": "python2",
      "display_name": "Python 2"
    },
    "accelerator": "GPU"
  },
  "cells": [
    {
      "cell_type": "markdown",
      "metadata": {
        "id": "view-in-github",
        "colab_type": "text"
      },
      "source": [
        "<a href=\"https://colab.research.google.com/github/AshwinDeshpande96/TGS-Salt-Identification/blob/master/tgs_salt_identification.ipynb\" target=\"_parent\"><img src=\"https://colab.research.google.com/assets/colab-badge.svg\" alt=\"Open In Colab\"/></a>"
      ]
    },
    {
      "cell_type": "markdown",
      "metadata": {
        "id": "sLhLAt9y2KMp",
        "colab_type": "text"
      },
      "source": [
        "# Libraries"
      ]
    },
    {
      "cell_type": "code",
      "metadata": {
        "id": "45Cet0vzR1x-",
        "colab_type": "code",
        "colab": {}
      },
      "source": [
        "#1\n",
        "from google.colab import drive\n",
        "from google.colab import files\n",
        "#1.2.\n",
        "import pandas as pd\n",
        "#1.3.1, 1.3.2\n",
        "import numpy as np\n",
        "#1.3.2\n",
        "import os\n",
        "import cv2\n",
        "from keras.preprocessing.image import array_to_img, img_to_array, load_img\n",
        "from skimage.transform import resize\n",
        "import h5py\n",
        "#2.1\n",
        "from keras.models import Model, load_model\n",
        "from keras.layers import Input\n",
        "from keras.layers.core import Lambda, RepeatVector, Reshape\n",
        "from keras.layers.convolutional import Conv2D, Conv2DTranspose\n",
        "from keras.layers.pooling import MaxPooling2D\n",
        "from keras.layers.merge import concatenate\n",
        "#2.2.\n",
        "from keras.callbacks import EarlyStopping, ModelCheckpoint, ReduceLROnPlateau"
      ],
      "execution_count": 0,
      "outputs": []
    },
    {
      "cell_type": "markdown",
      "metadata": {
        "id": "PoNncHNT02Fq",
        "colab_type": "text"
      },
      "source": [
        "# 1. Data Import"
      ]
    },
    {
      "cell_type": "code",
      "metadata": {
        "id": "5GBzMC58q4ji",
        "colab_type": "code",
        "outputId": "a5266feb-b5cd-4074-8996-078556cfd938",
        "colab": {
          "base_uri": "https://localhost:8080/",
          "height": 34
        }
      },
      "source": [
        "#Link up to Google Drive to store Extracted Feature Data\n",
        "drive.mount('/content/gdrive')"
      ],
      "execution_count": 0,
      "outputs": [
        {
          "output_type": "stream",
          "text": [
            "Drive already mounted at /content/gdrive; to attempt to forcibly remount, call drive.mount(\"/content/gdrive\", force_remount=True).\n"
          ],
          "name": "stdout"
        }
      ]
    },
    {
      "cell_type": "code",
      "metadata": {
        "id": "OiYRV4Gd3zwU",
        "colab_type": "code",
        "outputId": "3a3de8a0-4646-4b63-e8c4-c478518340bb",
        "colab": {
          "resources": {
            "http://localhost:8080/nbextensions/google.colab/files.js": {
              "data": "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",
              "ok": true,
              "headers": [
                [
                  "content-type",
                  "application/javascript"
                ]
              ],
              "status": 200,
              "status_text": ""
            }
          },
          "base_uri": "https://localhost:8080/",
          "height": 105
        }
      },
      "source": [
        "files.upload()\n",
        "#Make /root/.kaggle/ directory. So that kaggle command can download the data\n",
        "!mkdir /root/.kaggle/\n",
        "#Move downloaded 'kaggle.json' to previously created directory\n",
        "!mv /content/kaggle.json /root/.kaggle/\n",
        "#change permissions of 'kaggle.json' so that it is only accessible by you\n",
        "!chmod 600 /root/.kaggle/kaggle.json\n",
        "!ls /content/"
      ],
      "execution_count": 0,
      "outputs": [
        {
          "output_type": "display_data",
          "data": {
            "text/plain": [
              "<IPython.core.display.HTML object>"
            ],
            "text/html": [
              "\n",
              "     <input type=\"file\" id=\"files-339b7d7d-a44c-47c0-9f84-4231adc4a5b8\" name=\"files[]\" multiple disabled />\n",
              "     <output id=\"result-339b7d7d-a44c-47c0-9f84-4231adc4a5b8\">\n",
              "      Upload widget is only available when the cell has been executed in the\n",
              "      current browser session. Please rerun this cell to enable.\n",
              "      </output>\n",
              "      <script src=\"/nbextensions/google.colab/files.js\"></script> "
            ]
          },
          "metadata": {
            "tags": []
          }
        },
        {
          "output_type": "stream",
          "text": [
            "mkdir: cannot create directory ‘/root/.kaggle/’: File exists\n",
            "mv: cannot stat '/content/kaggle.json': No such file or directory\n",
            "depths.csv  images  sample_data\t\t   test.zip   train.zip\n",
            "gdrive\t    masks   sample_submission.csv  train.csv\n"
          ],
          "name": "stdout"
        }
      ]
    },
    {
      "cell_type": "markdown",
      "metadata": {
        "id": "fyFYhhg-1BhV",
        "colab_type": "text"
      },
      "source": [
        "## 1.2. Download Files"
      ]
    },
    {
      "cell_type": "code",
      "metadata": {
        "id": "Az2Z3xSoZCKH",
        "colab_type": "code",
        "colab": {}
      },
      "source": [
        "!kaggle competitions download -c tgs-salt-identification-challenge"
      ],
      "execution_count": 0,
      "outputs": []
    },
    {
      "cell_type": "code",
      "metadata": {
        "id": "s_ajB1sAe6C2",
        "colab_type": "code",
        "outputId": "2e9e7f03-e129-4ee5-af45-4bddbe6469c1",
        "colab": {
          "base_uri": "https://localhost:8080/",
          "height": 51
        }
      },
      "source": [
        "!unzip train.zip"
      ],
      "execution_count": 0,
      "outputs": [
        {
          "output_type": "stream",
          "text": [
            "Archive:  train.zip\n",
            "replace images/8d08955cdf.png? [y]es, [n]o, [A]ll, [N]one, [r]ename: N\n"
          ],
          "name": "stdout"
        }
      ]
    },
    {
      "cell_type": "markdown",
      "metadata": {
        "id": "NQHSJY9d09ap",
        "colab_type": "text"
      },
      "source": [
        "## 1.2 Read Files"
      ]
    },
    {
      "cell_type": "code",
      "metadata": {
        "id": "yMDOr_Ni9S50",
        "colab_type": "code",
        "colab": {}
      },
      "source": [
        "train = pd.read_csv('train.csv')\n",
        "depth = pd.read_csv('./depths.csv')"
      ],
      "execution_count": 0,
      "outputs": []
    },
    {
      "cell_type": "code",
      "metadata": {
        "id": "X3gFolPC9XLX",
        "colab_type": "code",
        "outputId": "468fab2d-92fa-4696-d4f0-5baf59b48e08",
        "colab": {
          "base_uri": "https://localhost:8080/",
          "height": 204
        }
      },
      "source": [
        "train.head()"
      ],
      "execution_count": 0,
      "outputs": [
        {
          "output_type": "execute_result",
          "data": {
            "text/html": [
              "<div>\n",
              "<style scoped>\n",
              "    .dataframe tbody tr th:only-of-type {\n",
              "        vertical-align: middle;\n",
              "    }\n",
              "\n",
              "    .dataframe tbody tr th {\n",
              "        vertical-align: top;\n",
              "    }\n",
              "\n",
              "    .dataframe thead th {\n",
              "        text-align: right;\n",
              "    }\n",
              "</style>\n",
              "<table border=\"1\" class=\"dataframe\">\n",
              "  <thead>\n",
              "    <tr style=\"text-align: right;\">\n",
              "      <th></th>\n",
              "      <th>id</th>\n",
              "      <th>rle_mask</th>\n",
              "    </tr>\n",
              "  </thead>\n",
              "  <tbody>\n",
              "    <tr>\n",
              "      <th>0</th>\n",
              "      <td>575d24d81d</td>\n",
              "      <td>NaN</td>\n",
              "    </tr>\n",
              "    <tr>\n",
              "      <th>1</th>\n",
              "      <td>a266a2a9df</td>\n",
              "      <td>5051 5151</td>\n",
              "    </tr>\n",
              "    <tr>\n",
              "      <th>2</th>\n",
              "      <td>75efad62c1</td>\n",
              "      <td>9 93 109 94 210 94 310 95 411 95 511 96 612 96...</td>\n",
              "    </tr>\n",
              "    <tr>\n",
              "      <th>3</th>\n",
              "      <td>34e51dba6a</td>\n",
              "      <td>48 54 149 54 251 53 353 52 455 51 557 50 659 4...</td>\n",
              "    </tr>\n",
              "    <tr>\n",
              "      <th>4</th>\n",
              "      <td>4875705fb0</td>\n",
              "      <td>1111 1 1212 1 1313 1 1414 1 1514 2 1615 2 1716...</td>\n",
              "    </tr>\n",
              "  </tbody>\n",
              "</table>\n",
              "</div>"
            ],
            "text/plain": [
              "           id                                           rle_mask\n",
              "0  575d24d81d                                                NaN\n",
              "1  a266a2a9df                                          5051 5151\n",
              "2  75efad62c1  9 93 109 94 210 94 310 95 411 95 511 96 612 96...\n",
              "3  34e51dba6a  48 54 149 54 251 53 353 52 455 51 557 50 659 4...\n",
              "4  4875705fb0  1111 1 1212 1 1313 1 1414 1 1514 2 1615 2 1716..."
            ]
          },
          "metadata": {
            "tags": []
          },
          "execution_count": 7
        }
      ]
    },
    {
      "cell_type": "code",
      "metadata": {
        "id": "JyLVndhCFNs-",
        "colab_type": "code",
        "outputId": "411512be-62f3-4233-9719-05eb71ded2fb",
        "colab": {
          "base_uri": "https://localhost:8080/",
          "height": 204
        }
      },
      "source": [
        "depth.head()"
      ],
      "execution_count": 0,
      "outputs": [
        {
          "output_type": "execute_result",
          "data": {
            "text/html": [
              "<div>\n",
              "<style scoped>\n",
              "    .dataframe tbody tr th:only-of-type {\n",
              "        vertical-align: middle;\n",
              "    }\n",
              "\n",
              "    .dataframe tbody tr th {\n",
              "        vertical-align: top;\n",
              "    }\n",
              "\n",
              "    .dataframe thead th {\n",
              "        text-align: right;\n",
              "    }\n",
              "</style>\n",
              "<table border=\"1\" class=\"dataframe\">\n",
              "  <thead>\n",
              "    <tr style=\"text-align: right;\">\n",
              "      <th></th>\n",
              "      <th>id</th>\n",
              "      <th>z</th>\n",
              "    </tr>\n",
              "  </thead>\n",
              "  <tbody>\n",
              "    <tr>\n",
              "      <th>0</th>\n",
              "      <td>4ac19fb269</td>\n",
              "      <td>306</td>\n",
              "    </tr>\n",
              "    <tr>\n",
              "      <th>1</th>\n",
              "      <td>1825fadf99</td>\n",
              "      <td>157</td>\n",
              "    </tr>\n",
              "    <tr>\n",
              "      <th>2</th>\n",
              "      <td>f59821d067</td>\n",
              "      <td>305</td>\n",
              "    </tr>\n",
              "    <tr>\n",
              "      <th>3</th>\n",
              "      <td>5b435fad9d</td>\n",
              "      <td>503</td>\n",
              "    </tr>\n",
              "    <tr>\n",
              "      <th>4</th>\n",
              "      <td>e340e7bfca</td>\n",
              "      <td>783</td>\n",
              "    </tr>\n",
              "  </tbody>\n",
              "</table>\n",
              "</div>"
            ],
            "text/plain": [
              "           id    z\n",
              "0  4ac19fb269  306\n",
              "1  1825fadf99  157\n",
              "2  f59821d067  305\n",
              "3  5b435fad9d  503\n",
              "4  e340e7bfca  783"
            ]
          },
          "metadata": {
            "tags": []
          },
          "execution_count": 10
        }
      ]
    },
    {
      "cell_type": "code",
      "metadata": {
        "id": "tXs8EnQLhMcU",
        "colab_type": "code",
        "colab": {}
      },
      "source": [
        "file_list = list(train['id'].values)"
      ],
      "execution_count": 0,
      "outputs": []
    },
    {
      "cell_type": "markdown",
      "metadata": {
        "id": "hvWD_mOh1HW6",
        "colab_type": "text"
      },
      "source": [
        "## 1.3. Data Preprocessing"
      ]
    },
    {
      "cell_type": "markdown",
      "metadata": {
        "id": "enKQM6iR1PB0",
        "colab_type": "text"
      },
      "source": [
        "### 1.3.1. Run Lenght Encoding to Images"
      ]
    },
    {
      "cell_type": "code",
      "metadata": {
        "id": "Oow8o_ywpBjr",
        "colab_type": "code",
        "colab": {}
      },
      "source": [
        "def get_mask(rle, rows, cols):\n",
        "    img = np.zeros(rows*cols, dtype=np.uint8)\n",
        "    try:\n",
        "        \n",
        "        rle = np.asarray(rle.split(' '), dtype=np.uint8).reshape(-1,2)\n",
        "        \n",
        "        for index, length in rle:\n",
        "            index -=1\n",
        "            img[index:index+length] = 255\n",
        "        img = img.reshape(cols, rows)\n",
        "        img = img.T\n",
        "    except:\n",
        "        img= np.zeros((cols, rows))\n",
        "        \n",
        "    return img"
      ],
      "execution_count": 0,
      "outputs": []
    },
    {
      "cell_type": "code",
      "metadata": {
        "id": "DUphc4aQ0zKT",
        "colab_type": "code",
        "outputId": "13bbf91a-c5ee-4888-ee96-6bc9bdda7977",
        "colab": {
          "base_uri": "https://localhost:8080/",
          "height": 204
        }
      },
      "source": [
        "train['mask'] = train['rle_mask'].apply(lambda x: get_mask(x,101, 101))\n",
        "train = train.merge(depth)\n",
        "train.head()"
      ],
      "execution_count": 0,
      "outputs": [
        {
          "output_type": "execute_result",
          "data": {
            "text/html": [
              "<div>\n",
              "<style scoped>\n",
              "    .dataframe tbody tr th:only-of-type {\n",
              "        vertical-align: middle;\n",
              "    }\n",
              "\n",
              "    .dataframe tbody tr th {\n",
              "        vertical-align: top;\n",
              "    }\n",
              "\n",
              "    .dataframe thead th {\n",
              "        text-align: right;\n",
              "    }\n",
              "</style>\n",
              "<table border=\"1\" class=\"dataframe\">\n",
              "  <thead>\n",
              "    <tr style=\"text-align: right;\">\n",
              "      <th></th>\n",
              "      <th>id</th>\n",
              "      <th>rle_mask</th>\n",
              "      <th>mask</th>\n",
              "      <th>z</th>\n",
              "    </tr>\n",
              "  </thead>\n",
              "  <tbody>\n",
              "    <tr>\n",
              "      <th>0</th>\n",
              "      <td>575d24d81d</td>\n",
              "      <td>NaN</td>\n",
              "      <td>[[0.0, 0.0, 0.0, 0.0, 0.0, 0.0, 0.0, 0.0, 0.0,...</td>\n",
              "      <td>843</td>\n",
              "    </tr>\n",
              "    <tr>\n",
              "      <th>1</th>\n",
              "      <td>a266a2a9df</td>\n",
              "      <td>5051 5151</td>\n",
              "      <td>[[0, 0, 255, 0, 0, 0, 0, 0, 0, 0, 0, 0, 0, 0, ...</td>\n",
              "      <td>794</td>\n",
              "    </tr>\n",
              "    <tr>\n",
              "      <th>2</th>\n",
              "      <td>75efad62c1</td>\n",
              "      <td>9 93 109 94 210 94 310 95 411 95 511 96 612 96...</td>\n",
              "      <td>[[0, 255, 255, 255, 0, 0, 0, 0, 0, 0, 0, 0, 0,...</td>\n",
              "      <td>468</td>\n",
              "    </tr>\n",
              "    <tr>\n",
              "      <th>3</th>\n",
              "      <td>34e51dba6a</td>\n",
              "      <td>48 54 149 54 251 53 353 52 455 51 557 50 659 4...</td>\n",
              "      <td>[[0, 255, 255, 0, 0, 0, 0, 0, 0, 0, 0, 0, 0, 0...</td>\n",
              "      <td>727</td>\n",
              "    </tr>\n",
              "    <tr>\n",
              "      <th>4</th>\n",
              "      <td>4875705fb0</td>\n",
              "      <td>1111 1 1212 1 1313 1 1414 1 1514 2 1615 2 1716...</td>\n",
              "      <td>[[0, 255, 255, 0, 0, 0, 0, 0, 0, 0, 0, 0, 0, 0...</td>\n",
              "      <td>797</td>\n",
              "    </tr>\n",
              "  </tbody>\n",
              "</table>\n",
              "</div>"
            ],
            "text/plain": [
              "           id  ...    z\n",
              "0  575d24d81d  ...  843\n",
              "1  a266a2a9df  ...  794\n",
              "2  75efad62c1  ...  468\n",
              "3  34e51dba6a  ...  727\n",
              "4  4875705fb0  ...  797\n",
              "\n",
              "[5 rows x 4 columns]"
            ]
          },
          "metadata": {
            "tags": []
          },
          "execution_count": 15
        }
      ]
    },
    {
      "cell_type": "markdown",
      "metadata": {
        "id": "ZJryQgpY1ixa",
        "colab_type": "text"
      },
      "source": [
        "### 1.3.2. Creating Dataset"
      ]
    },
    {
      "cell_type": "code",
      "metadata": {
        "id": "waAkW6JOkPoX",
        "colab_type": "code",
        "colab": {}
      },
      "source": [
        "train_ids = next(os.walk(\"/content/images\"))[2]\n",
        "im_width = 128\n",
        "im_height = 128\n",
        "im_depth = 2\n",
        "\n",
        "\n",
        "n_features = 1 \n",
        "\n",
        "\n",
        "X = np.zeros((len(train_ids), im_height, im_width, im_depth), dtype=np.float32)\n",
        "y = np.zeros((len(train_ids), im_height, im_width, 1), dtype=np.float32)\n",
        "X_feat = np.zeros((len(train_ids), n_features), dtype=np.float32)\n",
        "\n",
        "for n, ids in enumerate(train_ids):\n",
        "\n",
        "    im = cv2.imread('/content/images/'+ids, 0).astype(np.float32)\n",
        "    im = resize(im, (128, 128, 1), mode='constant', preserve_range=True)\n",
        "    \n",
        "    mask = cv2.imread('/content/masks/'+ids, 0).astype(np.float32)/255.\n",
        "    mask = resize(mask, (128, 128, 1), mode='constant', preserve_range=True)\n",
        "    \n",
        "    \n",
        "    mid_mean = im[5:-5, 5:-5].mean()\n",
        "    zero_centered = im-mid_mean\n",
        "    cum = (zero_centered).cumsum(axis=0)\n",
        "    mean = cum.mean()\n",
        "    std_dev = max(1e-3, cum[5:-5, 5:-5].std())\n",
        "    \n",
        "    feature2 = cum - mean\n",
        "    feature2 = feature2/std_dev\n",
        "\n",
        "    \n",
        "    X[n, ..., 0] = im.squeeze() /255.\n",
        "    X[n, ..., 1] = feature2.squeeze()\n",
        "    y[n] = mask"
      ],
      "execution_count": 0,
      "outputs": []
    },
    {
      "cell_type": "markdown",
      "metadata": {
        "id": "DRmaknLz1o3X",
        "colab_type": "text"
      },
      "source": [
        "Check Dimension and save to HDF5 files"
      ]
    },
    {
      "cell_type": "code",
      "metadata": {
        "id": "wOGkc59Xerj9",
        "colab_type": "code",
        "outputId": "ceef4111-c8ed-48d0-d839-dbd92db5e407",
        "colab": {
          "base_uri": "https://localhost:8080/",
          "height": 34
        }
      },
      "source": [
        "print X.shape, y.shape, X_feat.shape\n",
        "Xfile = h5py.File(\"/content/gdrive/My Drive/Projects/Kaggle Challenges/TGS Salt Identification/X.hdf5\", \"w\")\n",
        "yfile =  h5py.File(\"/content/gdrive/My Drive/Projects/Kaggle Challenges/TGS Salt Identification/y.hdf5\", \"w\")\n",
        "Xfeat_file =  h5py.File(\"/content/gdrive/My Drive/Projects/Kaggle Challenges/TGS Salt Identification/X_feat.hdf5\", \"w\")\n",
        "\n",
        "Xfile.create_dataset('dataset_left', data=X)\n",
        "yfile.create_dataset('dataset_right', data=y)\n",
        "Xfeat_file.create_dataset('dataset_out', data=X_feat)\n",
        "\n",
        "Xfile.close()\n",
        "yfile.close()\n",
        "Xfeat_file.close()"
      ],
      "execution_count": 0,
      "outputs": [
        {
          "output_type": "stream",
          "text": [
            "(4000, 128, 128, 2) (4000, 128, 128, 1) (4000, 1)\n"
          ],
          "name": "stdout"
        }
      ]
    },
    {
      "cell_type": "markdown",
      "metadata": {
        "id": "fvTjRRJR1xBM",
        "colab_type": "text"
      },
      "source": [
        "Data split for training and testing"
      ]
    },
    {
      "cell_type": "code",
      "metadata": {
        "id": "dsQ7eP3jkwRa",
        "colab_type": "code",
        "colab": {}
      },
      "source": [
        "from sklearn.model_selection import train_test_split\n",
        "\n",
        "X_train, X_valid, X_feat_train, X_feat_valid, y_train, y_valid = train_test_split(X, X_feat, y, test_size=0.25, random_state=42)"
      ],
      "execution_count": 0,
      "outputs": []
    },
    {
      "cell_type": "markdown",
      "metadata": {
        "id": "kDgbhLcy12e_",
        "colab_type": "text"
      },
      "source": [
        "# 2. Network Architecture"
      ]
    },
    {
      "cell_type": "markdown",
      "metadata": {
        "id": "6qp3ejFs15-4",
        "colab_type": "text"
      },
      "source": [
        "## 2.1. Network Definiton"
      ]
    },
    {
      "cell_type": "code",
      "metadata": {
        "id": "gV301Y8di_IB",
        "colab_type": "code",
        "outputId": "4ea6ef1e-16ca-4640-cfb0-30850963d3c6",
        "colab": {
          "base_uri": "https://localhost:8080/",
          "height": 1737
        }
      },
      "source": [
        "input_img = Input((im_height, im_width, im_depth), name='img')\n",
        "input_features = Input((n_features, ), name='feat')\n",
        "\n",
        "c1 = Conv2D(8, (3, 3), activation='relu', padding='same', name='c11') (input_img)\n",
        "c1 = Conv2D(8, (3, 3), activation='relu', padding='same', name='c12') (c1)\n",
        "max1 = MaxPooling2D((2, 2), name='max1') (c1)\n",
        "\n",
        "c2 = Conv2D(16, (3, 3), activation='relu', padding='same', name='c21') (max1)\n",
        "c2 = Conv2D(16, (3, 3), activation='relu', padding='same', name='c22') (c2)\n",
        "max2 = MaxPooling2D((2, 2), name='max2') (c2)\n",
        "\n",
        "c3 = Conv2D(32, (3, 3), activation='relu', padding='same', name='c31') (max2)\n",
        "c3 = Conv2D(32, (3, 3), activation='relu', padding='same', name='c32') (c3)\n",
        "max3 = MaxPooling2D((2, 2), name='max3') (c3)\n",
        "\n",
        "c4 = Conv2D(64, (3, 3), activation='relu', padding='same', name='c41') (max3)\n",
        "c4 = Conv2D(64, (3, 3), activation='relu', padding='same', name='c42') (c4)\n",
        "max4 = MaxPooling2D(pool_size=(2, 2), name='max4') (c4)\n",
        "\n",
        "\n",
        "f_repeat = RepeatVector(8*8, name='repeat')(input_features)\n",
        "f_conv = Reshape((8, 8, n_features), name='reshape')(f_repeat)\n",
        "p4_feat = concatenate([max4, f_conv], -1)\n",
        "\n",
        "c5 = Conv2D(128, (3, 3), activation='relu', padding='same', name='c51') (p4_feat)\n",
        "c5 = Conv2D(128, (3, 3), activation='relu', padding='same', name='c52') (c5)\n",
        "\n",
        "u6 = Conv2DTranspose(64, (2, 2), strides=(2, 2), padding='same', name='ctrans1') (c5)\n",
        "u6 = concatenate([u6, c4], name='skip1')\n",
        "c6 = Conv2D(64, (3, 3), activation='relu', padding='same', name='c61') (u6)\n",
        "c6 = Conv2D(64, (3, 3), activation='relu', padding='same', name='c62') (c6)\n",
        "\n",
        "u7 = Conv2DTranspose(32, (2, 2), strides=(2, 2), padding='same', name='ctrans2') (c6)\n",
        "u7 = concatenate([u7, c3], name='skip2')\n",
        "c7 = Conv2D(32, (3, 3), activation='relu', padding='same', name='c71') (u7)\n",
        "c7 = Conv2D(32, (3, 3), activation='relu', padding='same', name='c72') (c7)\n",
        "\n",
        "u8 = Conv2DTranspose(16, (2, 2), strides=(2, 2), padding='same', name='ctrans3') (c7)\n",
        "u8 = concatenate([u8, c2], name='skip3')\n",
        "c8 = Conv2D(16, (3, 3), activation='relu', padding='same', name='c81') (u8)\n",
        "c8 = Conv2D(16, (3, 3), activation='relu', padding='same', name='c82') (c8)\n",
        "\n",
        "u9 = Conv2DTranspose(8, (2, 2), strides=(2, 2), padding='same', name='ctrans4') (c8)\n",
        "u9 = concatenate([u9, c1], axis=3, name='skip4')\n",
        "c9 = Conv2D(8, (3, 3), activation='relu', padding='same', name='c91') (u9)\n",
        "c9 = Conv2D(8, (3, 3), activation='relu', padding='same', name='92') (c9)\n",
        "\n",
        "outputs = Conv2D(1, (1, 1), activation='sigmoid') (c9)\n",
        "\n",
        "model = Model(inputs=[input_img, input_features], outputs=[outputs])\n",
        "model.compile(optimizer='adam', loss='binary_crossentropy')\n",
        "model.summary()"
      ],
      "execution_count": 0,
      "outputs": [
        {
          "output_type": "stream",
          "text": [
            "WARNING: Logging before flag parsing goes to stderr.\n",
            "W0618 08:48:57.193907 140698898798464 deprecation_wrapper.py:119] From /usr/local/lib/python2.7/dist-packages/keras/backend/tensorflow_backend.py:517: The name tf.placeholder is deprecated. Please use tf.compat.v1.placeholder instead.\n",
            "\n",
            "W0618 08:48:57.238414 140698898798464 deprecation_wrapper.py:119] From /usr/local/lib/python2.7/dist-packages/keras/backend/tensorflow_backend.py:4138: The name tf.random_uniform is deprecated. Please use tf.random.uniform instead.\n",
            "\n",
            "W0618 08:48:57.288265 140698898798464 deprecation_wrapper.py:119] From /usr/local/lib/python2.7/dist-packages/keras/backend/tensorflow_backend.py:3976: The name tf.nn.max_pool is deprecated. Please use tf.nn.max_pool2d instead.\n",
            "\n",
            "W0618 08:48:57.433732 140698898798464 deprecation_wrapper.py:119] From /usr/local/lib/python2.7/dist-packages/keras/backend/tensorflow_backend.py:74: The name tf.get_default_graph is deprecated. Please use tf.compat.v1.get_default_graph instead.\n",
            "\n",
            "W0618 08:48:57.989689 140698898798464 deprecation_wrapper.py:119] From /usr/local/lib/python2.7/dist-packages/keras/optimizers.py:790: The name tf.train.Optimizer is deprecated. Please use tf.compat.v1.train.Optimizer instead.\n",
            "\n",
            "W0618 08:48:58.033956 140698898798464 deprecation_wrapper.py:119] From /usr/local/lib/python2.7/dist-packages/keras/backend/tensorflow_backend.py:3376: The name tf.log is deprecated. Please use tf.math.log instead.\n",
            "\n",
            "W0618 08:48:58.043998 140698898798464 deprecation.py:323] From /usr/local/lib/python2.7/dist-packages/tensorflow/python/ops/nn_impl.py:180: where (from tensorflow.python.ops.array_ops) is deprecated and will be removed in a future version.\n",
            "Instructions for updating:\n",
            "Use tf.where in 2.0, which has the same broadcast rule as np.where\n"
          ],
          "name": "stderr"
        },
        {
          "output_type": "stream",
          "text": [
            "__________________________________________________________________________________________________\n",
            "Layer (type)                    Output Shape         Param #     Connected to                     \n",
            "==================================================================================================\n",
            "img (InputLayer)                (None, 128, 128, 2)  0                                            \n",
            "__________________________________________________________________________________________________\n",
            "c11 (Conv2D)                    (None, 128, 128, 8)  152         img[0][0]                        \n",
            "__________________________________________________________________________________________________\n",
            "c12 (Conv2D)                    (None, 128, 128, 8)  584         c11[0][0]                        \n",
            "__________________________________________________________________________________________________\n",
            "max1 (MaxPooling2D)             (None, 64, 64, 8)    0           c12[0][0]                        \n",
            "__________________________________________________________________________________________________\n",
            "c21 (Conv2D)                    (None, 64, 64, 16)   1168        max1[0][0]                       \n",
            "__________________________________________________________________________________________________\n",
            "c22 (Conv2D)                    (None, 64, 64, 16)   2320        c21[0][0]                        \n",
            "__________________________________________________________________________________________________\n",
            "max2 (MaxPooling2D)             (None, 32, 32, 16)   0           c22[0][0]                        \n",
            "__________________________________________________________________________________________________\n",
            "c31 (Conv2D)                    (None, 32, 32, 32)   4640        max2[0][0]                       \n",
            "__________________________________________________________________________________________________\n",
            "c32 (Conv2D)                    (None, 32, 32, 32)   9248        c31[0][0]                        \n",
            "__________________________________________________________________________________________________\n",
            "max3 (MaxPooling2D)             (None, 16, 16, 32)   0           c32[0][0]                        \n",
            "__________________________________________________________________________________________________\n",
            "c41 (Conv2D)                    (None, 16, 16, 64)   18496       max3[0][0]                       \n",
            "__________________________________________________________________________________________________\n",
            "feat (InputLayer)               (None, 1)            0                                            \n",
            "__________________________________________________________________________________________________\n",
            "c42 (Conv2D)                    (None, 16, 16, 64)   36928       c41[0][0]                        \n",
            "__________________________________________________________________________________________________\n",
            "repeat (RepeatVector)           (None, 64, 1)        0           feat[0][0]                       \n",
            "__________________________________________________________________________________________________\n",
            "max4 (MaxPooling2D)             (None, 8, 8, 64)     0           c42[0][0]                        \n",
            "__________________________________________________________________________________________________\n",
            "reshape (Reshape)               (None, 8, 8, 1)      0           repeat[0][0]                     \n",
            "__________________________________________________________________________________________________\n",
            "concatenate_1 (Concatenate)     (None, 8, 8, 65)     0           max4[0][0]                       \n",
            "                                                                 reshape[0][0]                    \n",
            "__________________________________________________________________________________________________\n",
            "c51 (Conv2D)                    (None, 8, 8, 128)    75008       concatenate_1[0][0]              \n",
            "__________________________________________________________________________________________________\n",
            "c52 (Conv2D)                    (None, 8, 8, 128)    147584      c51[0][0]                        \n",
            "__________________________________________________________________________________________________\n",
            "ctrans1 (Conv2DTranspose)       (None, 16, 16, 64)   32832       c52[0][0]                        \n",
            "__________________________________________________________________________________________________\n",
            "skip1 (Concatenate)             (None, 16, 16, 128)  0           ctrans1[0][0]                    \n",
            "                                                                 c42[0][0]                        \n",
            "__________________________________________________________________________________________________\n",
            "c61 (Conv2D)                    (None, 16, 16, 64)   73792       skip1[0][0]                      \n",
            "__________________________________________________________________________________________________\n",
            "c62 (Conv2D)                    (None, 16, 16, 64)   36928       c61[0][0]                        \n",
            "__________________________________________________________________________________________________\n",
            "ctrans2 (Conv2DTranspose)       (None, 32, 32, 32)   8224        c62[0][0]                        \n",
            "__________________________________________________________________________________________________\n",
            "skip2 (Concatenate)             (None, 32, 32, 64)   0           ctrans2[0][0]                    \n",
            "                                                                 c32[0][0]                        \n",
            "__________________________________________________________________________________________________\n",
            "c71 (Conv2D)                    (None, 32, 32, 32)   18464       skip2[0][0]                      \n",
            "__________________________________________________________________________________________________\n",
            "c72 (Conv2D)                    (None, 32, 32, 32)   9248        c71[0][0]                        \n",
            "__________________________________________________________________________________________________\n",
            "ctrans3 (Conv2DTranspose)       (None, 64, 64, 16)   2064        c72[0][0]                        \n",
            "__________________________________________________________________________________________________\n",
            "skip3 (Concatenate)             (None, 64, 64, 32)   0           ctrans3[0][0]                    \n",
            "                                                                 c22[0][0]                        \n",
            "__________________________________________________________________________________________________\n",
            "c81 (Conv2D)                    (None, 64, 64, 16)   4624        skip3[0][0]                      \n",
            "__________________________________________________________________________________________________\n",
            "c82 (Conv2D)                    (None, 64, 64, 16)   2320        c81[0][0]                        \n",
            "__________________________________________________________________________________________________\n",
            "ctrans4 (Conv2DTranspose)       (None, 128, 128, 8)  520         c82[0][0]                        \n",
            "__________________________________________________________________________________________________\n",
            "skip4 (Concatenate)             (None, 128, 128, 16) 0           ctrans4[0][0]                    \n",
            "                                                                 c12[0][0]                        \n",
            "__________________________________________________________________________________________________\n",
            "c91 (Conv2D)                    (None, 128, 128, 8)  1160        skip4[0][0]                      \n",
            "__________________________________________________________________________________________________\n",
            "92 (Conv2D)                     (None, 128, 128, 8)  584         c91[0][0]                        \n",
            "__________________________________________________________________________________________________\n",
            "conv2d_1 (Conv2D)               (None, 128, 128, 1)  9           92[0][0]                         \n",
            "==================================================================================================\n",
            "Total params: 486,897\n",
            "Trainable params: 486,897\n",
            "Non-trainable params: 0\n",
            "__________________________________________________________________________________________________\n"
          ],
          "name": "stdout"
        }
      ]
    },
    {
      "cell_type": "markdown",
      "metadata": {
        "id": "SwMF9n-l2BqV",
        "colab_type": "text"
      },
      "source": [
        "## 2.2. Hyperparameters"
      ]
    },
    {
      "cell_type": "code",
      "metadata": {
        "id": "R-Pfpc0Rk3pQ",
        "colab_type": "code",
        "colab": {}
      },
      "source": [
        "callbacks = [\n",
        "    EarlyStopping(patience=3, verbose=1),\n",
        "    ReduceLROnPlateau(patience=3, verbose=1),\n",
        "    ModelCheckpoint('/content/gdrive/My Drive/Projects/Kaggle Challenges/TGS Salt Identification/weights.h5', verbose=1, save_best_only=True, save_weights_only=True)\n",
        "]\n"
      ],
      "execution_count": 0,
      "outputs": []
    },
    {
      "cell_type": "markdown",
      "metadata": {
        "id": "whDb_j5j2Ez3",
        "colab_type": "text"
      },
      "source": [
        "## 2.3. Training"
      ]
    },
    {
      "cell_type": "code",
      "metadata": {
        "id": "3oujIrHiPd2d",
        "colab_type": "code",
        "outputId": "b71f3ef1-8ffe-414e-d9d1-c3f3cb0c4938",
        "colab": {
          "base_uri": "https://localhost:8080/",
          "height": 105
        }
      },
      "source": [
        "results = model.fit({'img': X_train, 'feat': X_feat_train}, y_train, batch_size=16, epochs=30, callbacks=callbacks,\n",
        "                    validation_data=({'img': X_valid, 'feat': X_feat_valid}, y_valid))\n",
        "model.save('/content/gdrive/My Drive/Projects/Kaggle Challenges/TGS Salt Identification/model.h5')"
      ],
      "execution_count": 0,
      "outputs": [
        {
          "output_type": "stream",
          "text": [
            "W0618 08:49:26.615636 140698898798464 deprecation_wrapper.py:119] From /usr/local/lib/python2.7/dist-packages/keras/backend/tensorflow_backend.py:986: The name tf.assign_add is deprecated. Please use tf.compat.v1.assign_add instead.\n",
            "\n"
          ],
          "name": "stderr"
        },
        {
          "output_type": "stream",
          "text": [
            "Train on 3000 samples, validate on 1000 samples\n",
            "Epoch 1/30\n"
          ],
          "name": "stdout"
        }
      ]
    }
  ]
}